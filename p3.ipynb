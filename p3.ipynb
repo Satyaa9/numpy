{
 "cells": [
  {
   "cell_type": "code",
   "execution_count": 1,
   "id": "41e9adfd-4ce2-414a-9eeb-b888ffc93545",
   "metadata": {},
   "outputs": [
    {
     "name": "stdout",
     "output_type": "stream",
     "text": [
      "[2, 4, 6, 8]\n"
     ]
    }
   ],
   "source": [
    "import numpy as np\n",
    "ls=[1, 2, 3, 4]\n",
    "new_ls=[i*2 for i in ls]\n",
    "print(new_ls)"
   ]
  },
  {
   "cell_type": "code",
   "execution_count": 2,
   "id": "ccf62793-6c68-4335-8ad3-287423767cd2",
   "metadata": {},
   "outputs": [
    {
     "name": "stdout",
     "output_type": "stream",
     "text": [
      "[0 1 2 3 4]\n"
     ]
    }
   ],
   "source": [
    "np_arr=np.arange(5)\n",
    "print(np_arr)"
   ]
  },
  {
   "cell_type": "code",
   "execution_count": 3,
   "id": "3ccec060-00bc-4717-b761-c1c358f93ac8",
   "metadata": {},
   "outputs": [
    {
     "name": "stdout",
     "output_type": "stream",
     "text": [
      "[0 2 4 6 8]\n"
     ]
    }
   ],
   "source": [
    "new_arr=np_arr*2\n",
    "print(new_arr)"
   ]
  },
  {
   "cell_type": "code",
   "execution_count": null,
   "id": "fd0639d2-a00f-48c1-89ce-a3c0c7bee9fc",
   "metadata": {},
   "outputs": [],
   "source": []
  }
 ],
 "metadata": {
  "kernelspec": {
   "display_name": "Python [conda env:base] *",
   "language": "python",
   "name": "conda-base-py"
  },
  "language_info": {
   "codemirror_mode": {
    "name": "ipython",
    "version": 3
   },
   "file_extension": ".py",
   "mimetype": "text/x-python",
   "name": "python",
   "nbconvert_exporter": "python",
   "pygments_lexer": "ipython3",
   "version": "3.13.5"
  }
 },
 "nbformat": 4,
 "nbformat_minor": 5
}
