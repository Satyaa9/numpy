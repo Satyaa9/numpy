{
 "cells": [
  {
   "cell_type": "code",
   "execution_count": 4,
   "id": "56fe0528-5168-42ef-a151-b4643f2d01a8",
   "metadata": {},
   "outputs": [
    {
     "name": "stdout",
     "output_type": "stream",
     "text": [
      "0.09589481353759766\n",
      "0.0035753250122070312\n"
     ]
    }
   ],
   "source": [
    "import numpy as np \n",
    "import time\n",
    "\n",
    "n=1000000\n",
    "ls=list(range(n))\n",
    "start=time.time()\n",
    "\n",
    "new_list=[i*2 for i in ls]\n",
    "end=time.time()\n",
    "print(end-start)\n",
    "\n",
    "np_arr=np.arange(n)\n",
    "start=time.time() \n",
    "new_np_arr=np_arr*2\n",
    "end=time.time() \n",
    "print(end-start)"
   ]
  },
  {
   "cell_type": "code",
   "execution_count": null,
   "id": "43eecf77-125e-41ef-b7c1-3a07179de94f",
   "metadata": {},
   "outputs": [],
   "source": []
  }
 ],
 "metadata": {
  "kernelspec": {
   "display_name": "Python [conda env:base] *",
   "language": "python",
   "name": "conda-base-py"
  },
  "language_info": {
   "codemirror_mode": {
    "name": "ipython",
    "version": 3
   },
   "file_extension": ".py",
   "mimetype": "text/x-python",
   "name": "python",
   "nbconvert_exporter": "python",
   "pygments_lexer": "ipython3",
   "version": "3.13.5"
  }
 },
 "nbformat": 4,
 "nbformat_minor": 5
}
